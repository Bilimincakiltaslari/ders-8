{
 "cells": [
  {
   "cell_type": "code",
   "execution_count": 7,
   "metadata": {},
   "outputs": [
    {
     "name": "stdout",
     "output_type": "stream",
     "text": [
      " Başlangıç\n",
      "\u001b[91m Kırmızı\n",
      "\u001b[92m Yeşil\n",
      "\u001b[93m Sarı\n",
      "\u001b[94m Mavi\n",
      "\u001b[95m Mor\n",
      "\u001b[96m Ciyan\n",
      "\u001b[0m Başlangıç\n",
      "\u001b[1m Kalın\n",
      "\u001b[2m Kalın\n",
      "\u001b[3m Kalın\n",
      "\u001b[4m Altı Çizili\n",
      "\u001b[97m Kalın Çizili Gri\n",
      "\u001b[90m Kalın Çizili Koyu Gri\n",
      "\u001b[94m Kalın Çizili Mavi\n",
      "\u001b[m Başlangıç\n"
     ]
    }
   ],
   "source": [
    "# PEMBE = '\\033[95m'\n",
    "# MAVİ = '\\033[94m'\n",
    "# YESİL = '\\033[92m'\n",
    "# SARI = '\\033[93m'\n",
    "# KIRMIZI = '\\033[91m'\n",
    "# ENDC = '\\033[0m'\n",
    "# BOLD = '\\033[1m'\n",
    "# UNDERLINE = '\\033[4m'\n",
    "print(\" Başlangıç\")\n",
    "print(\"\\033[91m\",\"Kırmızı\")\n",
    "print(\"\\033[92m\",\"Yeşil\")\n",
    "print(\"\\033[93m\",\"Sarı\")\n",
    "print(\"\\033[94m\",\"Mavi\")\n",
    "print(\"\\033[95m\",\"Mor\")\n",
    "print(\"\\033[96m\",\"Ciyan\")\n",
    "print(\"\\033[0m\",\"Başlangıç\")\n",
    "print(\"\\033[1m\",\"Kalın\")\n",
    "print(\"\\033[2m\",\"Kalın\")\n",
    "print(\"\\033[3m\",\"Kalın\")\n",
    "print(\"\\033[4m\",\"Altı Çizili\")\n",
    "print(\"\\033[97m\",\"Kalın Çizili Gri\")\n",
    "print(\"\\033[90m\",\"Kalın Çizili Koyu Gri\")\n",
    "print(\"\\033[94m\",\"Kalın Çizili Mavi\")\n",
    "print(\"\\033[m\",\"Başlangıç\")"
   ]
  },
  {
   "cell_type": "code",
   "execution_count": null,
   "metadata": {},
   "outputs": [],
   "source": []
  }
 ],
 "metadata": {
  "kernelspec": {
   "display_name": "Python 3",
   "language": "python",
   "name": "python3"
  },
  "language_info": {
   "codemirror_mode": {
    "name": "ipython",
    "version": 3
   },
   "file_extension": ".py",
   "mimetype": "text/x-python",
   "name": "python",
   "nbconvert_exporter": "python",
   "pygments_lexer": "ipython3",
   "version": "3.7.3"
  }
 },
 "nbformat": 4,
 "nbformat_minor": 2
}
